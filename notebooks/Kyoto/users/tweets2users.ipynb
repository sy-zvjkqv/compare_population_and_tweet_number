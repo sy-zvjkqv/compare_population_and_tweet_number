{
 "cells": [
  {
   "cell_type": "code",
   "execution_count": 1,
   "metadata": {},
   "outputs": [],
   "source": [
    "import pandas as pd\n",
    "import numpy as np\n",
    "import matplotlib.pyplot as plt\n",
    "import plotly.graph_objects as go"
   ]
  },
  {
   "cell_type": "code",
   "execution_count": 2,
   "metadata": {},
   "outputs": [],
   "source": [
    "Kyoto_csv_PATH = '/home/is/shuntaro-o/dev/compare_population_and_tweet_number/data/twitter/Kyoto/proceed/processed_Kyotostation_3zi_2022.csv'\n",
    "df = pd.read_csv(Kyoto_csv_PATH)"
   ]
  },
  {
   "cell_type": "code",
   "execution_count": 3,
   "metadata": {},
   "outputs": [
    {
     "data": {
      "text/plain": [
       "19898"
      ]
     },
     "execution_count": 3,
     "metadata": {},
     "output_type": "execute_result"
    }
   ],
   "source": [
    "len(df['author_id'].unique())"
   ]
  },
  {
   "cell_type": "code",
   "execution_count": 4,
   "metadata": {},
   "outputs": [],
   "source": [
    "day_list_long = [1,2,3,4,5,6,7,8,9,10,11,12,13,14,15,16,17,18,19,20,21,22,23,24,25,26,27,28,29,30,31]\n",
    "day_list_short = [1,2,3,4,5,6,7,8,9,10,11,12,13,14,15,16,17,18,19,20,21,22,23,24,25,26,27,28,29,30]\n",
    "day_list_Feb = [1,2,3,4,5,6,7,8,9,10,11,12,13,14,15,16,17,18,19,20,21,22,23,24,25,26,27,28]\n",
    "hour_list = [0,1,2,3,4,5,6,7,8,9,10,11,12,13,14,15,16,17,18,19,20,21,22,23]"
   ]
  },
  {
   "cell_type": "code",
   "execution_count": 10,
   "metadata": {},
   "outputs": [],
   "source": [
    "list_num_day = []\n",
    "list_number_users_day = []\n",
    "estimate_from_mobile_data = []\n",
    "for month in [1,2,3,4,5,6,7,8,9,10,11,12]:\n",
    "    df_onemonth =  df[df['creatid_at_month']==month]\n",
    "    if month in [1, 3, 5, 7, 8,10, 12]:\n",
    "        day_list = day_list_long\n",
    "    elif month == 2:\n",
    "        day_list = day_list_Feb\n",
    "    else:\n",
    "        day_list = day_list_short\n",
    "    for day in day_list:\n",
    "        list_num_hour = []\n",
    "        list_number_users_hour = []\n",
    "        for hour in hour_list:\n",
    "            df_oneday = df_onemonth[df_onemonth['creatid_at_day']==int(day)]\n",
    "            #tweet num\n",
    "            df_onehour =(df_oneday[df_oneday['creatid_at_hour']==int(hour)])\n",
    "            num = len(df_onehour)\n",
    "            list_num_hour.append(num)\n",
    "            #user num\n",
    "            number_users = len(df_onehour['author_id'].unique())\n",
    "            list_number_users_hour.append(int(number_users))\n",
    "        list_num_day.append(list_num_hour)\n",
    "        list_number_users_day.append(list_number_users_hour)"
   ]
  },
  {
   "cell_type": "code",
   "execution_count": 11,
   "metadata": {},
   "outputs": [],
   "source": [
    "num_day = np.array(list_num_day)"
   ]
  },
  {
   "cell_type": "code",
   "execution_count": 12,
   "metadata": {},
   "outputs": [],
   "source": [
    "number_users_day = np.array(list_number_users_day)"
   ]
  },
  {
   "cell_type": "code",
   "execution_count": 13,
   "metadata": {},
   "outputs": [
    {
     "data": {
      "text/plain": [
       "array([[ 9,  4,  4, ..., 11,  5, 14],\n",
       "       [ 1,  1,  0, ..., 24, 10,  5],\n",
       "       [ 2,  1,  0, ..., 16,  9,  8],\n",
       "       ...,\n",
       "       [ 8,  5,  2, ..., 14, 12, 12],\n",
       "       [ 5,  2,  0, ..., 19, 19, 17],\n",
       "       [ 7,  5,  4, ..., 14, 22, 10]])"
      ]
     },
     "execution_count": 13,
     "metadata": {},
     "output_type": "execute_result"
    }
   ],
   "source": [
    "number_users_day "
   ]
  },
  {
   "cell_type": "code",
   "execution_count": 15,
   "metadata": {},
   "outputs": [],
   "source": [
    "np.save('/home/is/shuntaro-o/dev/compare_population_and_tweet_number/data/twitter/Tokyostation_2021/users.npy', number_users_day)"
   ]
  }
 ],
 "metadata": {
  "kernelspec": {
   "display_name": ".venv",
   "language": "python",
   "name": "python3"
  },
  "language_info": {
   "codemirror_mode": {
    "name": "ipython",
    "version": 3
   },
   "file_extension": ".py",
   "mimetype": "text/x-python",
   "name": "python",
   "nbconvert_exporter": "python",
   "pygments_lexer": "ipython3",
   "version": "3.10.10"
  },
  "orig_nbformat": 4
 },
 "nbformat": 4,
 "nbformat_minor": 2
}
