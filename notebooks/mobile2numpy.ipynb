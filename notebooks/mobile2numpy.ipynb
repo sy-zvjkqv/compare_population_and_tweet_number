{
 "cells": [
  {
   "cell_type": "code",
   "execution_count": null,
   "metadata": {},
   "outputs": [],
   "source": [
    "import pandas as pd\n",
    "import seaborn as sns\n",
    "import matplotlib.pyplot as plt\n",
    "import numpy as np"
   ]
  },
  {
   "cell_type": "code",
   "execution_count": null,
   "metadata": {},
   "outputs": [],
   "source": [
    "df = pd.read_csv('/home/is/shuntaro-o/dev/compare_population_and_tweet_number/data/mobile/Tokyostation/Tokyostation_2021to2022.csv')"
   ]
  },
  {
   "cell_type": "code",
   "execution_count": null,
   "metadata": {},
   "outputs": [],
   "source": [
    "df = df[df['date']<20220101]"
   ]
  },
  {
   "cell_type": "code",
   "execution_count": null,
   "metadata": {},
   "outputs": [],
   "source": [
    "df = df[(df['area']==533946111) | (df['area']==533946112)| (df['area']==533946113)| (df['area']==533946114)]"
   ]
  },
  {
   "cell_type": "code",
   "execution_count": null,
   "metadata": {},
   "outputs": [],
   "source": [
    "day_list_long = ['01','02','03','04','05','06','07','08','09','10','11','12','13','14','15','16','17','18','19','20','21','22','23','24','25','26','27','28','29','30','31']\n",
    "day_list_short = ['01','02','03','04','05','06','07','08','09','10','11','12','13','14','15','16','17','18','19','20','21','22','23','24','25','26','27','28','29','30']\n",
    "day_list_Feb = ['01','02','03','04','05','06','07','08','09','10','11','12','13','14','15','16','17','18','19','20','21','22','23','24','25','26','27','28']\n",
    "hour_list = ['00','01','02','03','04','05','06','07','08','09','10','11','12','13','14','15','16','17','18','19','20','21','22','23']"
   ]
  },
  {
   "cell_type": "code",
   "execution_count": null,
   "metadata": {},
   "outputs": [],
   "source": [
    "df"
   ]
  },
  {
   "cell_type": "code",
   "execution_count": null,
   "metadata": {},
   "outputs": [],
   "source": [
    "estimate_from_mobile_data = []\n",
    "for month in ['01','02','03','04','05','06','07','08','09','10','11','12']:\n",
    "    if month in ['01', '03', '05', '07', '08','10', '12']:\n",
    "        day_list = day_list_long\n",
    "    elif month == '02':\n",
    "        day_list = day_list_Feb\n",
    "    else:\n",
    "        day_list = day_list_short\n",
    "    for day in day_list:\n",
    "        estimate_perday = []\n",
    "        key_day = int('2021' + month+ day)\n",
    "        df_oneday = df[df['date']==key_day]\n",
    "        for hour in range(0,24):\n",
    "            key_hour = hour*100\n",
    "            df_onehour =df_oneday[df_oneday['time']==key_hour]\n",
    "            estimate_perday.append(df_onehour['population'].sum())\n",
    "        estimate_from_mobile_data.append(estimate_perday)"
   ]
  },
  {
   "cell_type": "code",
   "execution_count": null,
   "metadata": {},
   "outputs": [],
   "source": [
    "print([len(v) for v in estimate_from_mobile_data])"
   ]
  },
  {
   "cell_type": "code",
   "execution_count": null,
   "metadata": {},
   "outputs": [],
   "source": [
    "len(estimate_from_mobile_data)"
   ]
  },
  {
   "cell_type": "code",
   "execution_count": null,
   "metadata": {},
   "outputs": [],
   "source": [
    "estimate_from_mobile_data =  np.array(estimate_from_mobile_data)"
   ]
  },
  {
   "cell_type": "code",
   "execution_count": null,
   "metadata": {},
   "outputs": [],
   "source": [
    "np.save('/home/is/shuntaro-o/dev/compare_population_and_tweet_number/data/mobile/Tokyostation/numpy_array/Tokyostation_2021.npy',estimate_from_mobile_data )"
   ]
  },
  {
   "attachments": {},
   "cell_type": "markdown",
   "metadata": {},
   "source": [
    "## 可視化"
   ]
  },
  {
   "cell_type": "code",
   "execution_count": null,
   "metadata": {},
   "outputs": [],
   "source": [
    "plt.subplots(facecolor=\"white\",figsize=(10,8))\n",
    "heatmap = sns.heatmap(estimate_from_mobile_data.T, cmap=\"Reds\")\n",
    "heatmap.set_title('2022/7 Estimated number of tweets(ALL)')\n",
    "heatmap.set_xlabel('day',fontsize=20)\n",
    "heatmap.set_ylabel('hour',fontsize=20)"
   ]
  },
  {
   "cell_type": "code",
   "execution_count": null,
   "metadata": {},
   "outputs": [],
   "source": [
    "estimate_from_mobile_data"
   ]
  },
  {
   "cell_type": "code",
   "execution_count": null,
   "metadata": {},
   "outputs": [],
   "source": [
    "estimate_from_mobile_data_flatten = estimate_from_mobile_data.flatten()"
   ]
  },
  {
   "cell_type": "code",
   "execution_count": null,
   "metadata": {},
   "outputs": [],
   "source": [
    "estimate_from_mobile_data_flatten"
   ]
  },
  {
   "cell_type": "code",
   "execution_count": null,
   "metadata": {},
   "outputs": [],
   "source": [
    "x_label = []\n",
    "for month in ['01','02','03','04','05','06','07','08','09','10','11','12']:\n",
    "    if month in ['01', '03', '05', '07', '08','10', '12']:\n",
    "        day_list = day_list_long\n",
    "    elif month == '02':\n",
    "        day_list = day_list_Feb\n",
    "    else:\n",
    "        day_list = day_list_short\n",
    "    for day in day_list:\n",
    "        for hour in range(0,24):\n",
    "            hour = str(hour)\n",
    "            key = int('21'+ month + day + hour)\n",
    "            key = str(key)\n",
    "            x_label.append(key)\n",
    "\n"
   ]
  },
  {
   "cell_type": "code",
   "execution_count": null,
   "metadata": {},
   "outputs": [],
   "source": [
    "xs = np.array(range(8760))"
   ]
  },
  {
   "cell_type": "code",
   "execution_count": null,
   "metadata": {},
   "outputs": [],
   "source": [
    "xlabel"
   ]
  },
  {
   "cell_type": "code",
   "execution_count": null,
   "metadata": {},
   "outputs": [],
   "source": [
    "import plotly.graph_objects as go\n",
    "fig = go.Figure(data=[\n",
    "    go.Scatter(x=x_label, y=estimate_from_mobile_data_flatten),\n",
    "    #go.Scatter(x=xs, y=randoms, name=\"random\"),\n",
    "])\n",
    "fig.show()"
   ]
  }
 ],
 "metadata": {
  "kernelspec": {
   "display_name": "Python 3",
   "language": "python",
   "name": "python3"
  },
  "language_info": {
   "codemirror_mode": {
    "name": "ipython",
    "version": 3
   },
   "file_extension": ".py",
   "mimetype": "text/x-python",
   "name": "python",
   "nbconvert_exporter": "python",
   "pygments_lexer": "ipython3",
   "version": "3.10.10"
  },
  "orig_nbformat": 4
 },
 "nbformat": 4,
 "nbformat_minor": 2
}
