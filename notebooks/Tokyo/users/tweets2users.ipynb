{
 "cells": [
  {
   "cell_type": "code",
   "execution_count": 1,
   "metadata": {},
   "outputs": [],
   "source": [
    "import pandas as pd\n",
    "import numpy as np\n",
    "import matplotlib.pyplot as plt\n",
    "import plotly.graph_objects as go"
   ]
  },
  {
   "cell_type": "code",
   "execution_count": 3,
   "metadata": {},
   "outputs": [],
   "source": [
    "Kyoto_csv_PATH = '/home/is/shuntaro-o/dev/compare_population_and_tweet_number/data/twitter/Kyoto/Kyotostaion2022/Kyotostation_3zi_2022.csv'\n",
    "Kyoto_npy_PATH = '/home/is/shuntaro-o/dev/compare_population_and_tweet_number/data/twitter/Kyoto/users/Kyotostation_users.npy'\n",
    "\n",
    "Arashi_csv_PATH = '/home/is/shuntaro-o/dev/compare_population_and_tweet_number/data/twitter/Kyoto/Arashiyama_3zi_2022.csv'\n",
    "Arashi_npy_PATH = '/home/is/shuntaro-o/dev/compare_population_and_tweet_number/data/twitter/Kyoto/users/Arashiyama_users.npy'\n",
    "\n",
    "High_csv_PATH = '/home/is/shuntaro-o/dev/compare_population_and_tweet_number/data/twitter/Kyoto/Highclass_3zi_2022.csv'\n",
    "High_npy_PATH = '/home/is/shuntaro-o/dev/compare_population_and_tweet_number/data/twitter/Kyoto/users/Highclass_users.npy'\n",
    "\n",
    "Kinkaku_csv_PATH = '/home/is/shuntaro-o/dev/compare_population_and_tweet_number/data/twitter/Kyoto/Kinkaku_3zi_2022.csv'\n",
    "Kinkaku_npy_PATH = '/home/is/shuntaro-o/dev/compare_population_and_tweet_number/data/twitter/Kyoto/users/Kinkaku_users.npy'\n",
    "\n",
    "Kiyomizu_csv_PATH = '/home/is/shuntaro-o/dev/compare_population_and_tweet_number/data/twitter/Kyoto/Kiyomizu_3zi_2022.csv'\n",
    "Kiyomizu_npy_PATH = '/home/is/shuntaro-o/dev/compare_population_and_tweet_number/data/twitter/Kyoto/users/Kiyomizu_users.npy'\n",
    "\n",
    "Lowclass_csv_PATH = '/home/is/shuntaro-o/dev/compare_population_and_tweet_number/data/twitter/Kyoto/Lowclass_3zi_2022.csv'\n",
    "Lowclass_npy_PATH = '/home/is/shuntaro-o/dev/compare_population_and_tweet_number/data/twitter/Kyoto/users/Lowclass_users.npy'\n",
    "\n",
    "Nizyou_csv_PATH = '/home/is/shuntaro-o/dev/compare_population_and_tweet_number/data/twitter/Kyoto/Nizyou_3zi_2022.csv'\n",
    "Nizyou_npy_PATH = '/home/is/shuntaro-o/dev/compare_population_and_tweet_number/data/twitter/Kyoto/users/Nizyou_users.npy'\n",
    "\n",
    "Touzi_csv_PATH = '/home/is/shuntaro-o/dev/compare_population_and_tweet_number/data/twitter/Kyoto/Touzi_3zi_2022.csv'\n",
    "Touzi_npy_PATH = '/home/is/shuntaro-o/dev/compare_population_and_tweet_number/data/twitter/Kyoto/users/Touzi_users.npy'\n",
    "\n",
    "Arashi_proceed_csv_PATH = '/home/is/shuntaro-o/dev/compare_population_and_tweet_number/data/twitter/Kyoto/proceed/proceed_Arashiyama_3zi_2022.csv'\n",
    "\n",
    "High_proceed_csv_PATH = '/home/is/shuntaro-o/dev/compare_population_and_tweet_number/data/twitter/Kyoto/proceed/proceed_Highclass_3zi_2022.csv'\n",
    "\n",
    "Kinkaku_proceed_csv_PATH = '/home/is/shuntaro-o/dev/compare_population_and_tweet_number/data/twitter/Kyoto/proceed/proceed_Kinkaku_3zi_2022.csv'\n",
    "\n",
    "Kiyomizu_proceed_csv_PATH = '/home/is/shuntaro-o/dev/compare_population_and_tweet_number/data/twitter/Kyoto/proceed/proceed_kiyomizu_3zi_2022.csv'\n",
    "\n",
    "Lowclass_proceed_csv_PATH = '/home/is/shuntaro-o/dev/compare_population_and_tweet_number/data/twitter/Kyoto/proceed/proceed_Lowclass_3zi_2022.csv'\n",
    "\n",
    "Nizyou_proceed_csv_PATH = '/home/is/shuntaro-o/dev/compare_population_and_tweet_number/data/twitter/Kyoto/proceed/proceed_Nizyou_3zi_2022.csv'\n",
    "\n",
    "Touzi_proceed_csv_PATH = '/home/is/shuntaro-o/dev/compare_population_and_tweet_number/data/twitter/Kyoto/proceed/proceed_Touzi_3zi_2022.csv'\n",
    "\n",
    "Kyoto_station_proceed_csv_PATH = '/home/is/shuntaro-o/dev/compare_population_and_tweet_number/data/twitter/Kyoto/proceed/processed_Kyotostation_3zi_2022.csv'\n"
   ]
  },
  {
   "cell_type": "code",
   "execution_count": 4,
   "metadata": {},
   "outputs": [],
   "source": [
    "list_csv = [Arashi_csv_PATH, High_csv_PATH, Kinkaku_csv_PATH, Kiyomizu_csv_PATH, Lowclass_csv_PATH, Nizyou_csv_PATH, Touzi_csv_PATH]\n",
    "list_npy = [Arashi_npy_PATH, High_npy_PATH, Kinkaku_npy_PATH, Kiyomizu_npy_PATH, Lowclass_npy_PATH, Nizyou_npy_PATH, Touzi_npy_PATH, Kyoto_npy_PATH]\n",
    "list_proceed_csv = [Arashi_proceed_csv_PATH, High_proceed_csv_PATH, Kinkaku_proceed_csv_PATH, Kiyomizu_proceed_csv_PATH, Lowclass_proceed_csv_PATH, Nizyou_proceed_csv_PATH, Touzi_proceed_csv_PATH, Kyoto_station_proceed_csv_PATH ]"
   ]
  },
  {
   "cell_type": "code",
   "execution_count": 5,
   "metadata": {},
   "outputs": [],
   "source": [
    "day_list_long = [1,2,3,4,5,6,7,8,9,10,11,12,13,14,15,16,17,18,19,20,21,22,23,24,25,26,27,28,29,30,31]\n",
    "day_list_short = [1,2,3,4,5,6,7,8,9,10,11,12,13,14,15,16,17,18,19,20,21,22,23,24,25,26,27,28,29,30]\n",
    "day_list_Feb = [1,2,3,4,5,6,7,8,9,10,11,12,13,14,15,16,17,18,19,20,21,22,23,24,25,26,27,28]\n",
    "hour_list = [0,1,2,3,4,5,6,7,8,9,10,11,12,13,14,15,16,17,18,19,20,21,22,23]"
   ]
  },
  {
   "cell_type": "code",
   "execution_count": 7,
   "metadata": {},
   "outputs": [],
   "source": [
    "for i in range(0, len(list_proceed_csv)):\n",
    "    df_PATH = list_proceed_csv[i]\n",
    "    npy_PATH = list_npy[i]\n",
    "    df = pd.read_csv(df_PATH)\n",
    "    list_num_day = []\n",
    "    list_number_users_day = []\n",
    "    estimate_from_mobile_data = []\n",
    "    for month in [1,2,3,4,5,6,7,8,9,10,11,12]:\n",
    "        df_onemonth =  df[df['creatid_at_month']==month]\n",
    "        if month in [1, 3, 5, 7, 8,10, 12]:\n",
    "            day_list = day_list_long\n",
    "        elif month == 2:\n",
    "            day_list = day_list_Feb\n",
    "        else:\n",
    "            day_list = day_list_short\n",
    "        for day in day_list:\n",
    "            list_num_hour = []\n",
    "            list_number_users_hour = []\n",
    "            for hour in hour_list:\n",
    "                df_oneday = df_onemonth[df_onemonth['creatid_at_day']==int(day)]\n",
    "                #tweet num\n",
    "                df_onehour =(df_oneday[df_oneday['creatid_at_hour']==int(hour)])\n",
    "                num = len(df_onehour)\n",
    "                list_num_hour.append(num)\n",
    "                #user num\n",
    "                number_users = len(df_onehour['author_id'].unique())\n",
    "                list_number_users_hour.append(int(number_users))\n",
    "            list_num_day.append(list_num_hour)\n",
    "            list_number_users_day.append(list_number_users_hour)\n",
    "            number_users_day = np.array(list_number_users_day)\n",
    "    np.save(npy_PATH, number_users_day)"
   ]
  }
 ],
 "metadata": {
  "kernelspec": {
   "display_name": ".venv",
   "language": "python",
   "name": "python3"
  },
  "language_info": {
   "codemirror_mode": {
    "name": "ipython",
    "version": 3
   },
   "file_extension": ".py",
   "mimetype": "text/x-python",
   "name": "python",
   "nbconvert_exporter": "python",
   "pygments_lexer": "ipython3",
   "version": "3.10.10"
  },
  "orig_nbformat": 4
 },
 "nbformat": 4,
 "nbformat_minor": 2
}
